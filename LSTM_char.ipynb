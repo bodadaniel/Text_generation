{
 "cells": [
  {
   "cell_type": "code",
   "execution_count": 2,
   "id": "28260aeb-aa32-45ec-822c-d55411d199bf",
   "metadata": {},
   "outputs": [],
   "source": [
    "import torch.nn as nn\n",
    "import torch"
   ]
  },
  {
   "cell_type": "code",
   "execution_count": 14,
   "id": "4c2bbe60-d9ff-49ac-af16-ed78bdb52b4e",
   "metadata": {},
   "outputs": [],
   "source": [
    "class lc_CharModel(nn.Module):\n",
    "    '''char-based LSTM model\n",
    "    Input\n",
    "    n-vocab: constant - number of vocab \n",
    "    Output \n",
    "    nn model\n",
    "    '''\n",
    "    def __init__(self, n_vocab):\n",
    "        super().__init__()\n",
    "        self.lstm = nn.LSTM(input_size=1, hidden_size=256, num_layers=2, batch_first=True)\n",
    "        self.dropout = nn.Dropout(0.2)\n",
    "        self.linear = nn.Linear(256, n_vocab)\n",
    "    def forward(self, x):\n",
    "        x, _ = self.lstm(x)\n",
    "        # take only the last output\n",
    "        x = x[:, -1, :]\n",
    "        # produce output\n",
    "        x = self.linear(self.dropout(x))\n",
    "        return x"
   ]
  },
  {
   "cell_type": "code",
   "execution_count": 4,
   "id": "4c9a3719-0177-45d0-b039-97e0919f5f3a",
   "metadata": {},
   "outputs": [],
   "source": [
    "class lc_CharEmbModel(nn.Module):\n",
    "    '''char-based LSTM model with embedding input vectors: not ok yet\n",
    "    Input\n",
    "    n-vocab: constant - number of vocab\n",
    "    embedding_dim: constant - dimension of embedding vector\n",
    "    Output\n",
    "    nn model\n",
    "    '''\n",
    "    def __init__(self, n_vocab, embedding_dim = 100):\n",
    "        super().__init__()\n",
    "        self.embedding = nn.Embedding(n_vocab, embedding_dim)\n",
    "        self.lstm = nn.LSTM(input_size=embedding_dim, hidden_size=256, num_layers=1, batch_first=True)\n",
    "        self.dropout = nn.Dropout(0.2)\n",
    "        self.linear = nn.Linear(256, n_vocab)\n",
    "    def forward(self, x):\n",
    "        x = x.long()\n",
    "        x = x.squeeze(2)\n",
    "        x = self.embedding(x)\n",
    "        x, _ = self.lstm(x)\n",
    "        # take only the last output\n",
    "        x = x[:, -1, :]\n",
    "        # produce output\n",
    "        x = self.linear(self.dropout(x))\n",
    "        return x"
   ]
  },
  {
   "cell_type": "code",
   "execution_count": 15,
   "id": "336e5650-ee58-46c2-bae4-3b777cf588ca",
   "metadata": {},
   "outputs": [
    {
     "name": "stdout",
     "output_type": "stream",
     "text": [
      "lc_CharModel(\n",
      "  (lstm): LSTM(1, 256, num_layers=2, batch_first=True)\n",
      "  (dropout): Dropout(p=0.2, inplace=False)\n",
      "  (linear): Linear(in_features=256, out_features=47, bias=True)\n",
      ")\n",
      "{'\\n': 0, ' ': 1, '!': 2, '(': 3, ')': 4, '*': 5, ',': 6, '-': 7, '.': 8, ':': 9, ';': 10, '?': 11, '[': 12, ']': 13, '_': 14, 'a': 15, 'b': 16, 'c': 17, 'd': 18, 'e': 19, 'f': 20, 'g': 21, 'h': 22, 'i': 23, 'j': 24, 'k': 25, 'l': 26, 'm': 27, 'n': 28, 'o': 29, 'p': 30, 'q': 31, 'r': 32, 's': 33, 't': 34, 'u': 35, 'v': 36, 'w': 37, 'x': 38, 'y': 39, 'z': 40, 'ù': 41, '—': 42, '‘': 43, '’': 44, '“': 45, '”': 46}\n"
     ]
    }
   ],
   "source": [
    "def lc_load_model(model, model_path):\n",
    "    '''load model and char_to_int dict\n",
    "    Inputs\n",
    "    model: obj - nn model\n",
    "    model_path: string - file path\n",
    "    Output\n",
    "    model obj, character to integer dict \n",
    "    '''\n",
    "    model_par, char_to_int = torch.load(model_path) \n",
    "    model.load_state_dict(model_par)\n",
    "    return model, char_to_int\n",
    "\n",
    "if __name__ == '__main__':\n",
    "    model = lc_CharModel(47)\n",
    "    model, char_to_int = lc_load_model(model, model_path = '/Users/danielboda/Text_generation/lc_CharModel_1700225116.pth')\n",
    "    print(model, char_to_int, sep = '\\n')\n"
   ]
  }
 ],
 "metadata": {
  "kernelspec": {
   "display_name": "Python 3 (ipykernel)",
   "language": "python",
   "name": "python3"
  },
  "language_info": {
   "codemirror_mode": {
    "name": "ipython",
    "version": 3
   },
   "file_extension": ".py",
   "mimetype": "text/x-python",
   "name": "python",
   "nbconvert_exporter": "python",
   "pygments_lexer": "ipython3",
   "version": "3.11.4"
  }
 },
 "nbformat": 4,
 "nbformat_minor": 5
}
