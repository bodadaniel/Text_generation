{
 "cells": [
  {
   "cell_type": "code",
   "execution_count": 2,
   "id": "8f985182-950d-4254-82f0-eb4707f70341",
   "metadata": {},
   "outputs": [],
   "source": [
    "import numpy as np\n",
    "import pandas as pd\n",
    "import matplotlib.pyplot as plt\n",
    "from datetime import datetime\n",
    "import math\n",
    "import os\n",
    "import torch"
   ]
  },
  {
   "cell_type": "code",
   "execution_count": 3,
   "id": "9e78c998-4fed-40f3-ba88-6f6e4d48bd35",
   "metadata": {},
   "outputs": [
    {
     "name": "stdout",
     "output_type": "stream",
     "text": [
      "alice’s adventures in wonderland\n",
      "\n",
      "by lewis carroll\n",
      "\n",
      "chapter i.\n",
      "down the rabbit-hole\n",
      "\n",
      "\n",
      "alice was begi\n"
     ]
    }
   ],
   "source": [
    "def dip_load_data(f_path, f_name):\n",
    "    '''import data from file and make the text lower case\n",
    "    Input\n",
    "    f_path: string - file path\n",
    "    f_name: string - file name\n",
    "    Output\n",
    "    raw text: string \n",
    "    '''\n",
    "    \n",
    "    file = f_path + '/' + f_name\n",
    "    raw_text = open(file, 'r', encoding='utf-8').read().lower()\n",
    "    return raw_text\n",
    "\n",
    "if __name__ == '__main__':\n",
    "    data = dip_load_data('/Users/danielboda', 'wonderland.txt')\n",
    "    print(data[:100])"
   ]
  },
  {
   "cell_type": "code",
   "execution_count": 4,
   "id": "f87aa689-a5ed-44a5-bf60-7e58ef84046d",
   "metadata": {},
   "outputs": [
    {
     "name": "stdout",
     "output_type": "stream",
     "text": [
      "['\\n', ' ', '!', '(', ')', '*', ',', '-', '.', ':', ';', '?', '[', ']', '_', 'a', 'b', 'c', 'd', 'e', 'f', 'g', 'h', 'i', 'j', 'k', 'l', 'm', 'n', 'o', 'p', 'q', 'r', 's', 't', 'u', 'v', 'w', 'x', 'y', 'z', 'ù', '—', '‘', '’', '“', '”']\n",
      "{'\\n': 0, ' ': 1, '!': 2, '(': 3, ')': 4, '*': 5, ',': 6, '-': 7, '.': 8, ':': 9, ';': 10, '?': 11, '[': 12, ']': 13, '_': 14, 'a': 15, 'b': 16, 'c': 17, 'd': 18, 'e': 19, 'f': 20, 'g': 21, 'h': 22, 'i': 23, 'j': 24, 'k': 25, 'l': 26, 'm': 27, 'n': 28, 'o': 29, 'p': 30, 'q': 31, 'r': 32, 's': 33, 't': 34, 'u': 35, 'v': 36, 'w': 37, 'x': 38, 'y': 39, 'z': 40, 'ù': 41, '—': 42, '‘': 43, '’': 44, '“': 45, '”': 46}\n",
      "{0: '\\n', 1: ' ', 2: '!', 3: '(', 4: ')', 5: '*', 6: ',', 7: '-', 8: '.', 9: ':', 10: ';', 11: '?', 12: '[', 13: ']', 14: '_', 15: 'a', 16: 'b', 17: 'c', 18: 'd', 19: 'e', 20: 'f', 21: 'g', 22: 'h', 23: 'i', 24: 'j', 25: 'k', 26: 'l', 27: 'm', 28: 'n', 29: 'o', 30: 'p', 31: 'q', 32: 'r', 33: 's', 34: 't', 35: 'u', 36: 'v', 37: 'w', 38: 'x', 39: 'y', 40: 'z', 41: 'ù', 42: '—', 43: '‘', 44: '’', 45: '“', 46: '”'}\n"
     ]
    }
   ],
   "source": [
    "def dip_chars_dict(text):\n",
    "    '''set of chars with the corresponding mapping dicts\n",
    "    Input\n",
    "    text: sting - raw text\n",
    "    Output\n",
    "    character: string, character to integer: dict, integer to character: dict\n",
    "    '''\n",
    "    \n",
    "    chars = sorted(list(set(text)))\n",
    "    char_to_int = dict((c, i) for i, c in enumerate(chars))\n",
    "    int_to_char = dict((i, c) for c, i in char_to_int.items())\n",
    "    return chars, char_to_int, int_to_char\n",
    "\n",
    "if __name__ == '__main__':\n",
    "    chars, char_to_int, int_to_char = dip_chars_dict(data)\n",
    "    print( chars, char_to_int, int_to_char, sep = '\\n')"
   ]
  },
  {
   "cell_type": "code",
   "execution_count": 5,
   "id": "ecd7de7f-2c1c-4612-b6b4-2a4701a783c8",
   "metadata": {},
   "outputs": [
    {
     "name": "stdout",
     "output_type": "stream",
     "text": [
      "\n",
      "Total Characters: \n",
      "144059\n",
      "Total Vocab: \n",
      "47\n",
      "Total Patterns: \n",
      "143959\n",
      "\n",
      "\n"
     ]
    }
   ],
   "source": [
    "def dip_create_data(text, chars, char_to_int, seq_length = 100, verbose = False):\n",
    "    '''create design matrix and response vector from raw text using specific window size\n",
    "    Input\n",
    "    text: string - raw text\n",
    "    chars: string - characters\n",
    "    char_to_int: dict - mapping from character to integer\n",
    "    seq_length: int - sequence length (example: XXXY/First three training/fourth label => seq_length = 3) \n",
    "    verbose: bool - print\n",
    "    Output\n",
    "    X: 2d list - training sample, y: list - label vector, number of pattern: int - example above equal one, number of vocab: int\n",
    "    '''\n",
    "    \n",
    "    n_chars = len(text)\n",
    "    n_vocab = len(chars)\n",
    "    X = []\n",
    "    y = []\n",
    "\n",
    "    for i in range(0, n_chars - seq_length, 1):\n",
    "        X.append([char_to_int[char] for char in text[i:i + seq_length]])\n",
    "        y.append(char_to_int[text[i + seq_length]])\n",
    "\n",
    "    n_patterns = len(X)\n",
    "    \n",
    "    if verbose:\n",
    "        print(\"\\nTotal Characters: \", n_chars, \"Total Vocab: \", n_vocab, \"Total Patterns: \", n_patterns, '\\n', sep = '\\n')\n",
    "\n",
    "    return X, y, n_patterns, n_vocab\n",
    "\n",
    "if __name__ == '__main__':\n",
    "    X, y, n_patterns, n_vocab = dip_create_data(data, chars, char_to_int, verbose = True)   "
   ]
  },
  {
   "cell_type": "code",
   "execution_count": 6,
   "id": "7ca09cab-5f3f-4f82-b42a-34343e4ae865",
   "metadata": {},
   "outputs": [
    {
     "name": "stdout",
     "output_type": "stream",
     "text": [
      "\n",
      "Size of X: torch.Size([143959, 100, 1]) Size of y: torch.Size([143959]) \n",
      "\n"
     ]
    }
   ],
   "source": [
    "def dip_normalization_reshape(X, y, n_patterns, n_vocab, seq_length, verbose = False):\n",
    "    '''create stensors, normalize X with number of vocab\n",
    "    Input\n",
    "    X: 2d list - training data \n",
    "    y: list - label vector \n",
    "    n_vocab: int - number of vocab\n",
    "    seq_length: int - sequence length (example: XXXY/First three training/fourth label => seq_length = 3) \n",
    "    verbose: bool - print \n",
    "    Output\n",
    "    X: 3d tensor: training data shape of (batch size/sequence length/1), y: 1d tensor: label vector\n",
    "    '''\n",
    "    \n",
    "    X = torch.tensor(X, dtype=torch.float32).reshape(n_patterns, seq_length, 1)\n",
    "    X = X / float(n_vocab)\n",
    "    y = torch.tensor(y)\n",
    "\n",
    "    if verbose:\n",
    "        print('\\nSize of X:', X.shape, 'Size of y:', y.shape, '\\n')\n",
    "\n",
    "    return X, y\n",
    "\n",
    "if __name__ == '__main__':\n",
    "    X, y = dip_normalization_reshape(X, y, n_patterns, n_vocab, 100, verbose = True) "
   ]
  }
 ],
 "metadata": {
  "kernelspec": {
   "display_name": "Python 3 (ipykernel)",
   "language": "python",
   "name": "python3"
  },
  "language_info": {
   "codemirror_mode": {
    "name": "ipython",
    "version": 3
   },
   "file_extension": ".py",
   "mimetype": "text/x-python",
   "name": "python",
   "nbconvert_exporter": "python",
   "pygments_lexer": "ipython3",
   "version": "3.11.4"
  }
 },
 "nbformat": 4,
 "nbformat_minor": 5
}
